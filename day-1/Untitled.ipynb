{
 "cells": [
  {
   "cell_type": "code",
   "execution_count": 9,
   "id": "4d246085-066e-437c-b34b-1ff6f1b03d5f",
   "metadata": {},
   "outputs": [],
   "source": [
    "import os\n",
    "import google.generativeai as genai\n",
    "from dotenv import load_dotenv\n",
    "\n",
    "load_dotenv()\n",
    "api_key = os.getenv(\"API_KEY\")\n",
    "if not api_key:\n",
    "    raise ValueError(\"Key not found\")\n",
    "\n",
    "genai.configure(api_key=api_key)\n",
    "\n",
    "# Choose model\n",
    "model = genai.GenerativeModel(\"gemini-2.5-flash\")\n"
   ]
  },
  {
   "cell_type": "code",
   "execution_count": 10,
   "id": "f6fce32b-4d5d-4379-9b6b-848326bdcc21",
   "metadata": {},
   "outputs": [
    {
     "name": "stdout",
     "output_type": "stream",
     "text": [
      "✅ Gemini Response:\n",
      "\n",
      "**Learning AI: It's not just understanding the future, it's building it.**\n"
     ]
    }
   ],
   "source": [
    "prompt = \"Write a short motivational quote about learning AI.\"\n",
    "response = model.generate_content(prompt)\n",
    "\n",
    "print(\"✅ Gemini Response:\\n\")\n",
    "print(response.text)"
   ]
  },
  {
   "cell_type": "code",
   "execution_count": null,
   "id": "66ae87c8-ee04-4948-b1f3-c06ffeac7e46",
   "metadata": {},
   "outputs": [],
   "source": []
  }
 ],
 "metadata": {
  "kernelspec": {
   "display_name": "Python 3 (ipykernel)",
   "language": "python",
   "name": "python3"
  },
  "language_info": {
   "codemirror_mode": {
    "name": "ipython",
    "version": 3
   },
   "file_extension": ".py",
   "mimetype": "text/x-python",
   "name": "python",
   "nbconvert_exporter": "python",
   "pygments_lexer": "ipython3",
   "version": "3.14.0"
  }
 },
 "nbformat": 4,
 "nbformat_minor": 5
}
